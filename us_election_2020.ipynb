{
 "cells": [
  {
   "cell_type": "code",
   "execution_count": null,
   "id": "reasonable-exclusive",
   "metadata": {},
   "outputs": [],
   "source": [
    "import pandas as pd #data_read and preprocessing\n",
    "import numpy as np #linear algibra\n",
    "import matplotlib.pyplot as plt #visualization"
   ]
  }
 ],
 "metadata": {
  "kernelspec": {
   "display_name": "Python 3",
   "language": "python",
   "name": "python3"
  },
  "language_info": {
   "codemirror_mode": {
    "name": "ipython",
    "version": 3
   },
   "file_extension": ".py",
   "mimetype": "text/x-python",
   "name": "python",
   "nbconvert_exporter": "python",
   "pygments_lexer": "ipython3",
   "version": "3.8.5"
  }
 },
 "nbformat": 4,
 "nbformat_minor": 5
}
